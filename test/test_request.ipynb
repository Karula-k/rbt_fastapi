{
 "cells": [
  {
   "cell_type": "code",
   "execution_count": 2,
   "metadata": {},
   "outputs": [],
   "source": [
    "import requests"
   ]
  },
  {
   "cell_type": "code",
   "execution_count": 6,
   "metadata": {},
   "outputs": [
    {
     "name": "stdout",
     "output_type": "stream",
     "text": [
      "{'added': 1}\n"
     ]
    }
   ],
   "source": [
    "print(\n",
    "    requests.post(\n",
    "        \"http://127.0.0.1:8080/barang\",\n",
    "        json={ \"id_barang\": 1,'nama_barang' :'screwdriver','harga' :10},\n",
    "    ).json()\n",
    ")"
   ]
  },
  {
   "cell_type": "code",
   "execution_count": 16,
   "metadata": {},
   "outputs": [
    {
     "name": "stdout",
     "output_type": "stream",
     "text": [
      "{'added': 10}\n"
     ]
    }
   ],
   "source": [
    "print(\n",
    "    requests.post(\n",
    "        \"http://127.0.0.1:8080/barang\",\n",
    "        json={ \"id_barang\": 10,'nama_barang' :'cat','harga' :15},\n",
    "    ).json()\n",
    ")"
   ]
  },
  {
   "cell_type": "code",
   "execution_count": 12,
   "metadata": {},
   "outputs": [
    {
     "name": "stdout",
     "output_type": "stream",
     "text": [
      "{'added': 1}\n"
     ]
    }
   ],
   "source": [
    "print(\n",
    "    requests.put(\n",
    "        \"http://127.0.0.1:8080/barang/1\",\n",
    "        json={ \"id_barang\": 1,'nama_barang' :'screwdriver v2','harga' :12},\n",
    "    ).json()\n",
    ")"
   ]
  },
  {
   "cell_type": "code",
   "execution_count": 7,
   "metadata": {},
   "outputs": [
    {
     "name": "stdout",
     "output_type": "stream",
     "text": [
      "{'delete': 2}\n"
     ]
    }
   ],
   "source": [
    "print(\n",
    "    requests.delete(\n",
    "        \"http://127.0.0.1:8000/barang/2\",\n",
    "    ).json()\n",
    ")"
   ]
  },
  {
   "cell_type": "code",
   "execution_count": 18,
   "metadata": {},
   "outputs": [
    {
     "name": "stdout",
     "output_type": "stream",
     "text": [
      "[{'id_barang': 1, 'nama_barang': 'screwdriver v2', 'harga': 12}, {'id_barang': 2, 'nama_barang': 'hammer', 'harga': 2000}, {'id_barang': 3, 'nama_barang': 'scd', 'harga': 5}, {'id_barang': 10, 'nama_barang': 'cat', 'harga': 15}]\n"
     ]
    }
   ],
   "source": [
    "print(requests.get(\"http://127.0.0.1:8080/\").json())"
   ]
  },
  {
   "cell_type": "code",
   "execution_count": null,
   "metadata": {},
   "outputs": [],
   "source": []
  }
 ],
 "metadata": {
  "kernelspec": {
   "display_name": "Python 3",
   "language": "python",
   "name": "python3"
  },
  "language_info": {
   "codemirror_mode": {
    "name": "ipython",
    "version": 3
   },
   "file_extension": ".py",
   "mimetype": "text/x-python",
   "name": "python",
   "nbconvert_exporter": "python",
   "pygments_lexer": "ipython3",
   "version": "3.10.9"
  }
 },
 "nbformat": 4,
 "nbformat_minor": 2
}
