{
 "cells": [
  {
   "cell_type": "code",
   "execution_count": 10,
   "metadata": {},
   "outputs": [],
   "source": [
    "import requests"
   ]
  },
  {
   "cell_type": "code",
   "execution_count": 11,
   "metadata": {},
   "outputs": [
    {
     "name": "stdout",
     "output_type": "stream",
     "text": [
      "{'added': 1}\n"
     ]
    }
   ],
   "source": [
    "print(\n",
    "    requests.post(\n",
    "        \"http://127.0.0.1:8000/barang\",\n",
    "        json={ \"id_barang\": 1,'nama_barang' :'screwdriver','harga' :10},\n",
    "    ).json()\n",
    ")"
   ]
  },
  {
   "cell_type": "code",
   "execution_count": 12,
   "metadata": {},
   "outputs": [
    {
     "name": "stdout",
     "output_type": "stream",
     "text": [
      "{'added': 2}\n"
     ]
    }
   ],
   "source": [
    "print(\n",
    "    requests.post(\n",
    "        \"http://127.0.0.1:8000/barang\",\n",
    "        json={ \"id_barang\": 2,'nama_barang' :'scd','harga' :5},\n",
    "    ).json()\n",
    ")"
   ]
  },
  {
   "cell_type": "code",
   "execution_count": 14,
   "metadata": {},
   "outputs": [
    {
     "name": "stdout",
     "output_type": "stream",
     "text": [
      "[{'id_barang': 1, 'nama_barang': 'screwdriver', 'harga': 10}, {'id_barang': 2, 'nama_barang': 'scd', 'harga': 5}]\n"
     ]
    }
   ],
   "source": [
    "print(requests.get(\"http://127.0.0.1:8000/\").json())"
   ]
  },
  {
   "cell_type": "code",
   "execution_count": null,
   "metadata": {},
   "outputs": [],
   "source": []
  }
 ],
 "metadata": {
  "kernelspec": {
   "display_name": "Python 3",
   "language": "python",
   "name": "python3"
  },
  "language_info": {
   "codemirror_mode": {
    "name": "ipython",
    "version": 3
   },
   "file_extension": ".py",
   "mimetype": "text/x-python",
   "name": "python",
   "nbconvert_exporter": "python",
   "pygments_lexer": "ipython3",
   "version": "3.10.9"
  }
 },
 "nbformat": 4,
 "nbformat_minor": 2
}
