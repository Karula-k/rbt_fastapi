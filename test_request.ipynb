{
 "cells": [
  {
   "cell_type": "code",
   "execution_count": 7,
   "metadata": {},
   "outputs": [],
   "source": [
    "import requests"
   ]
  },
  {
   "cell_type": "code",
   "execution_count": 9,
   "metadata": {},
   "outputs": [
    {
     "name": "stdout",
     "output_type": "stream",
     "text": [
      "{'added': 3}\n"
     ]
    }
   ],
   "source": [
    "print(\n",
    "    requests.post(\n",
    "        \"http://127.0.0.1:8000/items\",\n",
    "        json={ \"id\": 3,'name' :'screwdriver','quantity': 10,'harga' :'10'},\n",
    "    ).json()\n",
    ")"
   ]
  },
  {
   "cell_type": "code",
   "execution_count": 10,
   "metadata": {},
   "outputs": [
    {
     "name": "stdout",
     "output_type": "stream",
     "text": [
      "{'added': 4}\n"
     ]
    }
   ],
   "source": [
    "print(\n",
    "    requests.post(\n",
    "        \"http://127.0.0.1:8000/items\",\n",
    "        json={ \"id\": 4,'name' :'scd','quantity': 10,'harga' :'10'},\n",
    "    ).json()\n",
    ")"
   ]
  },
  {
   "cell_type": "code",
   "execution_count": 12,
   "metadata": {},
   "outputs": [
    {
     "name": "stdout",
     "output_type": "stream",
     "text": [
      "[3, 4]\n"
     ]
    }
   ],
   "source": [
    "print(requests.get(\"http://127.0.0.1:8000/read\").json())"
   ]
  }
 ],
 "metadata": {
  "kernelspec": {
   "display_name": "Python 3",
   "language": "python",
   "name": "python3"
  },
  "language_info": {
   "codemirror_mode": {
    "name": "ipython",
    "version": 3
   },
   "file_extension": ".py",
   "mimetype": "text/x-python",
   "name": "python",
   "nbconvert_exporter": "python",
   "pygments_lexer": "ipython3",
   "version": "3.10.9"
  }
 },
 "nbformat": 4,
 "nbformat_minor": 2
}
